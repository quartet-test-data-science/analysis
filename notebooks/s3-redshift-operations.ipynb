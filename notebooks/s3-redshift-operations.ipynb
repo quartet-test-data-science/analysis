{
 "cells": [
  {
   "cell_type": "markdown",
   "id": "ee2699ee",
   "metadata": {},
   "source": [
    "# S3-redshift-operations\n",
    "\n",
    "Some data operations to read the contents of files on S3 whether they are parquet or csv\n",
    "\n",
    "Also how to query data from redshift with sqlalchemy"
   ]
  },
  {
   "cell_type": "code",
   "execution_count": 2,
   "id": "7374bff3",
   "metadata": {},
   "outputs": [],
   "source": [
    "import pandas as pd\n",
    "from os import environ\n",
    "import io\n",
    "from operator import itemgetter\n",
    "import logging\n",
    "import numpy as np\n",
    "\n",
    "import s3fs\n",
    "import io\n",
    "import boto3\n",
    "import fastparquet as fp\n",
    "import awswrangler as wr\n",
    "import redshift_connector\n",
    "from s3fs import S3FileSystem\n",
    "from fastparquet import ParquetFile\n",
    "from sqlalchemy.engine import create_engine\n",
    "from pandas.io.sql import SQLTable\n",
    "\n",
    "from helpers import (\n",
    "    save_dataframe_csv,\n",
    "    get_training_data,\n",
    "    parquet_file,\n",
    "    parquet_dataframe,\n",
    "    make_dataframe_db_schema,\n",
    "    download_from_s3,\n",
    "    save_manifest_s3,\n",
    "    save_data_qa,\n",
    "    save_json_s3\n",
    ")\n",
    "\n",
    "dsn = create_engine(environ[\"ANALYTICS\"])\n",
    "\n",
    "pd.options.display.max_columns = 500\n",
    "pd.options.display.max_rows = 500\n",
    "\n",
    "log = logging.getLogger(__name__)"
   ]
  },
  {
   "cell_type": "markdown",
   "id": "370c22b7",
   "metadata": {},
   "source": [
    "## Reading csv files from from S3\n",
    "\n",
    "Simple as pie"
   ]
  },
  {
   "cell_type": "code",
   "execution_count": 3,
   "id": "675bc20a",
   "metadata": {},
   "outputs": [],
   "source": [
    "df_raw = pd.read_csv(\n",
    "    's3://qh-clinicaldata-phi/raw_feed/pre_ingest/healthy_blue/y=2022/m=03/d=10/'\n",
    "    'ts=134943/QUARTET_GBDFACETS_PATIENT_20220310.txt',\n",
    "    delimiter=\"|\"\n",
    ")"
   ]
  },
  {
   "cell_type": "markdown",
   "id": "e8b95772",
   "metadata": {},
   "source": [
    "## Reading parquet files from from S3"
   ]
  },
  {
   "cell_type": "code",
   "execution_count": 4,
   "id": "965e095e",
   "metadata": {},
   "outputs": [],
   "source": [
    "s3 = s3fs.S3FileSystem(anon=False)"
   ]
  },
  {
   "cell_type": "markdown",
   "id": "1dd94a22",
   "metadata": {},
   "source": [
    "Listing directories"
   ]
  },
  {
   "cell_type": "code",
   "execution_count": 5,
   "id": "ac6dc5d1",
   "metadata": {},
   "outputs": [
    {
     "data": {
      "text/plain": [
       "['qh-clinicaldata-phi/raw_feed/pre_ingest/healthy_blue/_new_key_records',\n",
       " 'qh-clinicaldata-phi/raw_feed/pre_ingest/healthy_blue/y=2021',\n",
       " 'qh-clinicaldata-phi/raw_feed/pre_ingest/healthy_blue/y=2022']"
      ]
     },
     "execution_count": 5,
     "metadata": {},
     "output_type": "execute_result"
    }
   ],
   "source": [
    "s3.glob('qh-clinicaldata-phi/raw_feed/pre_ingest/healthy_blue/')"
   ]
  },
  {
   "cell_type": "markdown",
   "id": "8c077c45",
   "metadata": {},
   "source": [
    "Specifying buckets to pass to `parquet_file`"
   ]
  },
  {
   "cell_type": "code",
   "execution_count": 6,
   "id": "52843006",
   "metadata": {},
   "outputs": [],
   "source": [
    "horiz_mc_bucket = 's3://qh-clinicaldata-phi/processed-feed/horizon/20220214_1947/parquet/medical_claim/'\n",
    "horiz_mh_need_train_bucket = (\n",
    "    's3://qh-clinicaldata-phi/processed-feed/horizon/20220214_1947/parquet/mh_need_pred_train/'\n",
    ")"
   ]
  },
  {
   "cell_type": "code",
   "execution_count": 7,
   "id": "210d08e9",
   "metadata": {},
   "outputs": [],
   "source": [
    "df_mhnt = parquet_file(horiz_mh_need_train_bucket).to_pandas()\n"
   ]
  },
  {
   "cell_type": "code",
   "execution_count": 8,
   "id": "548a2425",
   "metadata": {},
   "outputs": [
    {
     "data": {
      "text/plain": [
       "Index(['relationship_change', 'source', 'age', 'is_male', 'household_size',\n",
       "       'source_state_horizon', 'yr_cnt_claims_bh_conds_cnt_0',\n",
       "       'yr_cnt_claims_chronic_conds_cnt_0', 'yr_cnt_claims_is_er_0',\n",
       "       'yr_cnt_claims_is_inpatient_0',\n",
       "       ...\n",
       "       'mh_rx_category_Antidepressant_0', 'mh_rx_category_Antipsychotic_0',\n",
       "       'mh_rx_category_Anxiolytic_0', 'mh_rx_category_MoodStabilizer_0',\n",
       "       'mh_rx_category_OpioidDependence_0', 'mh_rx_category_Stimulant_0',\n",
       "       'yr_polypharm_rx_0', 'has_mh', 'test_iper', 'test_mh_need'],\n",
       "      dtype='object', length=160)"
      ]
     },
     "execution_count": 8,
     "metadata": {},
     "output_type": "execute_result"
    }
   ],
   "source": [
    "df_mhnt.columns"
   ]
  },
  {
   "cell_type": "code",
   "execution_count": 9,
   "id": "5159fedb",
   "metadata": {},
   "outputs": [
    {
     "data": {
      "text/plain": [
       "(59430, 160)"
      ]
     },
     "execution_count": 9,
     "metadata": {},
     "output_type": "execute_result"
    }
   ],
   "source": [
    "df_mhnt.shape"
   ]
  },
  {
   "cell_type": "markdown",
   "id": "44037f76",
   "metadata": {},
   "source": [
    "Taking only certain columns from parquet"
   ]
  },
  {
   "cell_type": "code",
   "execution_count": 10,
   "id": "fc253ede",
   "metadata": {},
   "outputs": [],
   "source": [
    "engagement_check = 's3://qh-datascience/engagement-model/bcbs_az/2022_03/surfaced_claim_features/'\n",
    "pf_ec = parquet_file(engagement_check, columns=['source', 'patient_quid', 'ip_er_visit_count',\n",
    "                                                'recent_ip_er_visit_date', 'ip_er_bh_visit_count',\n",
    "                                                'days_since_er_ip'])"
   ]
  },
  {
   "cell_type": "markdown",
   "id": "6f2f0cf9",
   "metadata": {},
   "source": [
    "Beware of memory usage!"
   ]
  },
  {
   "cell_type": "code",
   "execution_count": null,
   "id": "e29e72da",
   "metadata": {},
   "outputs": [],
   "source": [
    "# omitted so I don't explode\n",
    "df_hmc = parquet_file(horiz_mc_bucket, columns=['member_id', 'source', 'month', 'svc_cat']).to_pandas()\n",
    "df_hmc = df_hmc[(df_hmc['month'] >= '2019-12-01') & (df_hmc['month'] <= '2022-02-01')]"
   ]
  },
  {
   "cell_type": "markdown",
   "id": "83cd1c46",
   "metadata": {},
   "source": [
    "## Redshift operations"
   ]
  },
  {
   "cell_type": "markdown",
   "id": "5e84e8ba",
   "metadata": {},
   "source": [
    "Query data in redshift and put it into a pandas dataframe"
   ]
  },
  {
   "cell_type": "code",
   "execution_count": 11,
   "id": "2af53b61",
   "metadata": {},
   "outputs": [],
   "source": [
    "SAMPLE_QUERY = \"\"\"\n",
    "SELECT *\n",
    "FROM atacama_atacama.address_type\n",
    "\"\"\""
   ]
  },
  {
   "cell_type": "code",
   "execution_count": 12,
   "id": "d10281af",
   "metadata": {},
   "outputs": [
    {
     "name": "stderr",
     "output_type": "stream",
     "text": [
      "/home/ahmiel/.cache/pypoetry/virtualenvs/analysis-42vcTOCL-py3.8/lib/python3.8/site-packages/pandas/io/sql.py:1763: SAWarning: Dialect redshift:psycopg2 will not make use of SQL compilation caching as it does not set the 'supports_statement_cache' attribute to ``True``.  This can have significant performance implications including some performance degradations in comparison to prior SQLAlchemy versions.  Dialect maintainers should seek to set this attribute to True after appropriate development and testing for SQLAlchemy 1.4 caching support.   Alternatively, this attribute may be set to False which will disable this warning. (Background on this error at: https://sqlalche.me/e/14/cprf)\n",
      "  return insp.has_table(name, schema or self.meta.schema)\n"
     ]
    }
   ],
   "source": [
    "df_address_type = pd.read_sql(SAMPLE_QUERY, dsn)"
   ]
  },
  {
   "cell_type": "code",
   "execution_count": 13,
   "id": "2a7de797",
   "metadata": {},
   "outputs": [
    {
     "data": {
      "text/html": [
       "<div>\n",
       "<style scoped>\n",
       "    .dataframe tbody tr th:only-of-type {\n",
       "        vertical-align: middle;\n",
       "    }\n",
       "\n",
       "    .dataframe tbody tr th {\n",
       "        vertical-align: top;\n",
       "    }\n",
       "\n",
       "    .dataframe thead th {\n",
       "        text-align: right;\n",
       "    }\n",
       "</style>\n",
       "<table border=\"1\" class=\"dataframe\">\n",
       "  <thead>\n",
       "    <tr style=\"text-align: right;\">\n",
       "      <th></th>\n",
       "      <th>value</th>\n",
       "    </tr>\n",
       "  </thead>\n",
       "  <tbody>\n",
       "    <tr>\n",
       "      <th>0</th>\n",
       "      <td>HOME</td>\n",
       "    </tr>\n",
       "    <tr>\n",
       "      <th>1</th>\n",
       "      <td>OTHER</td>\n",
       "    </tr>\n",
       "    <tr>\n",
       "      <th>2</th>\n",
       "      <td>WORK</td>\n",
       "    </tr>\n",
       "  </tbody>\n",
       "</table>\n",
       "</div>"
      ],
      "text/plain": [
       "   value\n",
       "0   HOME\n",
       "1  OTHER\n",
       "2   WORK"
      ]
     },
     "execution_count": 13,
     "metadata": {},
     "output_type": "execute_result"
    }
   ],
   "source": [
    "df_address_type"
   ]
  },
  {
   "cell_type": "markdown",
   "id": "0910f320",
   "metadata": {},
   "source": [
    "Put data into a table in redshift (connector for awswrangler is different than sqlalchemy)"
   ]
  },
  {
   "cell_type": "code",
   "execution_count": 14,
   "id": "81ae9772",
   "metadata": {},
   "outputs": [],
   "source": [
    "schema_name = 'ahmiel'\n",
    "table_name = 'address_type'\n",
    "\n",
    "connector = redshift_connector.connect(\n",
    "    host=environ['PGHOST'],\n",
    "    database=environ['PGDATABASE'],\n",
    "    user=environ['PGUSER'],\n",
    "    password=environ['PGPASSWORD']\n",
    "    )"
   ]
  },
  {
   "cell_type": "code",
   "execution_count": 15,
   "id": "50cea4cd",
   "metadata": {},
   "outputs": [],
   "source": [
    "wr.redshift.to_sql(\n",
    "        df=df_address_type,\n",
    "        table=table_name,\n",
    "        schema=schema_name,\n",
    "        con=connector,\n",
    "        mode='overwrite',\n",
    "        dtype={'value': 'VARCHAR(5)'},\n",
    "        overwrite_method='drop',\n",
    "        index=False,\n",
    "        chunksize=1000\n",
    "    )"
   ]
  },
  {
   "cell_type": "code",
   "execution_count": null,
   "id": "efb84897",
   "metadata": {},
   "outputs": [],
   "source": []
  }
 ],
 "metadata": {
  "kernelspec": {
   "display_name": "analysis",
   "language": "python",
   "name": "analysis"
  },
  "language_info": {
   "codemirror_mode": {
    "name": "ipython",
    "version": 3
   },
   "file_extension": ".py",
   "mimetype": "text/x-python",
   "name": "python",
   "nbconvert_exporter": "python",
   "pygments_lexer": "ipython3",
   "version": "3.8.7"
  }
 },
 "nbformat": 4,
 "nbformat_minor": 5
}
